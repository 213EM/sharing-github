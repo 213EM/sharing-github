{
 "cells": [
  {
   "cell_type": "code",
   "execution_count": 1,
   "id": "29902b02",
   "metadata": {},
   "outputs": [
    {
     "data": {
      "text/plain": [
       "145.05555555555554"
      ]
     },
     "execution_count": 1,
     "metadata": {},
     "output_type": "execute_result"
    }
   ],
   "source": [
    "import numpy as np\n",
    "height = [133, 130, 131, 132, 135, 140, 144, 145, 142, 150, 147, 151, 152, 159, 158, 157, 156, 149]\n",
    "np.mean(height)"
   ]
  },
  {
   "cell_type": "code",
   "execution_count": 2,
   "id": "d8006c21",
   "metadata": {},
   "outputs": [
    {
     "data": {
      "text/plain": [
       "146.0"
      ]
     },
     "execution_count": 2,
     "metadata": {},
     "output_type": "execute_result"
    }
   ],
   "source": [
    "np.median(height)"
   ]
  },
  {
   "cell_type": "code",
   "execution_count": 3,
   "id": "fc740f1a",
   "metadata": {},
   "outputs": [],
   "source": [
    "import statistics"
   ]
  },
  {
   "cell_type": "code",
   "execution_count": 4,
   "id": "42f23866",
   "metadata": {},
   "outputs": [
    {
     "data": {
      "text/plain": [
       "133"
      ]
     },
     "execution_count": 4,
     "metadata": {},
     "output_type": "execute_result"
    }
   ],
   "source": [
    "statistics.mode(height)"
   ]
  },
  {
   "cell_type": "code",
   "execution_count": 5,
   "id": "55a9993b",
   "metadata": {},
   "outputs": [
    {
     "data": {
      "text/plain": [
       "9.08999995454091"
      ]
     },
     "execution_count": 5,
     "metadata": {},
     "output_type": "execute_result"
    }
   ],
   "source": [
    "weight = [55, 56, 60, 61, 62, 64, 63, 70, 71, 85, 80]\n",
    "np.std(weight)"
   ]
  },
  {
   "cell_type": "code",
   "execution_count": 6,
   "id": "e310b43e",
   "metadata": {},
   "outputs": [
    {
     "data": {
      "text/plain": [
       "82.62809917355372"
      ]
     },
     "execution_count": 6,
     "metadata": {},
     "output_type": "execute_result"
    }
   ],
   "source": [
    "np.var(weight)"
   ]
  },
  {
   "cell_type": "code",
   "execution_count": 7,
   "id": "50f7789f",
   "metadata": {},
   "outputs": [
    {
     "name": "stdout",
     "output_type": "stream",
     "text": [
      "[5, 31, 43, 48, 50, 41, 7, 11, 15, 55, 56, 60, 61, 62, 64, 63, 70, 71, 85, 80]\n"
     ]
    }
   ],
   "source": [
    "ages = [5,31,43,48,50,41,7,11,15, 55, 56, 60, 61, 62, 64, 63, 70, 71, 85, 80]\n",
    "np.percentile(ages,90)\n",
    "print(ages)"
   ]
  },
  {
   "cell_type": "code",
   "execution_count": 8,
   "id": "b7edb822",
   "metadata": {},
   "outputs": [],
   "source": [
    "ages = [5,31,43,48,50,41,7,11,15, 55, 56, 60, 61, 62, 64, 63, 70, 71, 85, 80]"
   ]
  },
  {
   "cell_type": "code",
   "execution_count": 9,
   "id": "48b4701a",
   "metadata": {},
   "outputs": [
    {
     "name": "stdout",
     "output_type": "stream",
     "text": [
      "[5, 31, 43, 48, 50, 41, 7, 11, 15, 55, 56, 60, 61, 62, 64, 63, 70, 71, 85, 80]\n"
     ]
    }
   ],
   "source": [
    "np.percentile(ages,90)\n",
    "print(ages)"
   ]
  },
  {
   "cell_type": "code",
   "execution_count": 10,
   "id": "301b00dc",
   "metadata": {},
   "outputs": [
    {
     "data": {
      "text/plain": [
       "71.9"
      ]
     },
     "execution_count": 10,
     "metadata": {},
     "output_type": "execute_result"
    }
   ],
   "source": [
    "np.percentile(ages,90)"
   ]
  },
  {
   "cell_type": "code",
   "execution_count": 11,
   "id": "8a3827b8",
   "metadata": {},
   "outputs": [
    {
     "data": {
      "text/plain": [
       "71.9"
      ]
     },
     "execution_count": 11,
     "metadata": {},
     "output_type": "execute_result"
    }
   ],
   "source": [
    "ages = [5,31,43,48,50,41,7,11,15, 55, 56, 60, 61, 62, 64, 63, 70, 71, 85, 80]\n",
    "np.percentile(ages,90)"
   ]
  },
  {
   "cell_type": "code",
   "execution_count": 12,
   "id": "013df9a8",
   "metadata": {},
   "outputs": [
    {
     "data": {
      "text/plain": [
       "55.5"
      ]
     },
     "execution_count": 12,
     "metadata": {},
     "output_type": "execute_result"
    }
   ],
   "source": [
    "np.percentile(ages,50)"
   ]
  },
  {
   "cell_type": "code",
   "execution_count": 13,
   "id": "b80def17",
   "metadata": {},
   "outputs": [
    {
     "name": "stdout",
     "output_type": "stream",
     "text": [
      "[1 1 0 6 3 6 0 1 7 6 6 7 5 0 1 0 4 5 3 0 5 5 1 1 7 2 5 8 1 1 5 9 9 8 0 8 7\n",
      " 6 0 8 1 2 0 9 0 7 6 9 7 1 2 4 2 3 9 1 2 8 5 8 3 8 8 1 3 5 8 9 1 2 1 0 3 7\n",
      " 5 6 4 4 6 1 1 6 1 1 4 2 9 8 6 7 7 2 9 1 3 1 4 9 2 4 2 3 7 2 6 7 9 0 1 5 0\n",
      " 8 1 6 9 8 7 6 6 7 4 3 5 9 2 8 2 8 6 9 4 2 8 0 9 2 3 7 5 8 1 0 4 2 7 9 2 1\n",
      " 3 2 2 2 7 0 2 7 7 6 1 9 8 1 4 9 3 5 3 0 5 8 7 6 8 5 4 0 7 1 9 6 7 3 6 8 7\n",
      " 4 0 4 6 8 1 3 6 4 3 6 0 4 1 0 7 2 1 4 5 3 4 2 0 3 2 7 8 6 2 6 1 5 8 4 7 3\n",
      " 6 4 1 4 3 3 7 3 3 3 5 4 0 6 5 3 5 8 9 1 9 5 0 3 6 1 6 3 9 3 8 2 1 7 2 9 4\n",
      " 2 8 2 2 7 0 5 3 4 2 3 5 6 5 5 2 3 1 5 4 7 0 9 1 9 5 2 9 2 0 3 1 8 3 7 0 0\n",
      " 8 8 0 4 2 9 2 2 5 7 3 7 0 0 6 0 3 5 4 7 7 8 0 9 3 3 5 1 5 5 6 8 4 0 1 1 8\n",
      " 9 5 9 2 3 2 6 3 2 7 7 8 3 2 9 0 8 5 1 8 3 1 1 0 5 8 9 4 9 2 3 2 6 8 1 8 6\n",
      " 2 7 5 8 4 5 1 7 8 4 9 5 1 9 9 4 1 9 1 2 7 5 5 4 4 6 8 4 2 2 5 6 9 8 7 7 9\n",
      " 2 3 3 5 9 2 9 6 2 0 2 7 1 9 2 8 0 1 1 4 1 3 7 7 3 8 4 3 3 3 5 3 9 4 2 1 2\n",
      " 8 2 3 3 6 5 2 2 5 3 9 4 9 1 9 2 9 6 7 6 5 5 3 8 5 7 2 4 6 2 9 2 3 5 5 1 7\n",
      " 4 6 2 6 7 8 0 4 4 3 5 0 3 2 1 1 6 7 2]\n"
     ]
    }
   ],
   "source": [
    "from numpy import random\n",
    "number = random.choice(10,size=(500))\n",
    "print(number)"
   ]
  },
  {
   "cell_type": "code",
   "execution_count": 14,
   "id": "3de443e8",
   "metadata": {
    "scrolled": true
   },
   "outputs": [
    {
     "ename": "ModuleNotFoundError",
     "evalue": "No module named 'panda'",
     "output_type": "error",
     "traceback": [
      "\u001b[1;31m---------------------------------------------------------------------------\u001b[0m",
      "\u001b[1;31mModuleNotFoundError\u001b[0m                       Traceback (most recent call last)",
      "\u001b[1;32m<ipython-input-14-91969cfefc12>\u001b[0m in \u001b[0;36m<module>\u001b[1;34m\u001b[0m\n\u001b[0;32m      1\u001b[0m \u001b[1;32mimport\u001b[0m \u001b[0mnumpy\u001b[0m \u001b[1;32mas\u001b[0m \u001b[0mnp\u001b[0m\u001b[1;33m\u001b[0m\u001b[1;33m\u001b[0m\u001b[0m\n\u001b[1;32m----> 2\u001b[1;33m \u001b[1;32mimport\u001b[0m \u001b[0mpanda\u001b[0m \u001b[1;32mas\u001b[0m \u001b[0mpd\u001b[0m\u001b[1;33m\u001b[0m\u001b[1;33m\u001b[0m\u001b[0m\n\u001b[0m\u001b[0;32m      3\u001b[0m \u001b[1;32mimport\u001b[0m \u001b[0mmatplotlib\u001b[0m\u001b[1;33m.\u001b[0m\u001b[0mpyplot\u001b[0m \u001b[1;32mas\u001b[0m \u001b[0mplt\u001b[0m\u001b[1;33m\u001b[0m\u001b[1;33m\u001b[0m\u001b[0m\n",
      "\u001b[1;31mModuleNotFoundError\u001b[0m: No module named 'panda'"
     ]
    }
   ],
   "source": [
    "import numpy as np\n",
    "import panda as pd\n",
    "import matplotlib.pyplot as plt"
   ]
  },
  {
   "cell_type": "code",
   "execution_count": 15,
   "id": "f68d0b02",
   "metadata": {},
   "outputs": [],
   "source": [
    "import numpy as np\n",
    "import pandas as pd\n",
    "import matplotlib.pyplot as plt"
   ]
  },
  {
   "cell_type": "code",
   "execution_count": 16,
   "id": "dfb6b09d",
   "metadata": {},
   "outputs": [
    {
     "data": {
      "image/png": "[encoded data removed]",
      "text/plain": [
       "<Figure size 432x288 with 1 Axes>"
      ]
     },
     "metadata": {
      "needs_background": "light"
     },
     "output_type": "display_data"
    }
   ],
   "source": [
    "%matplotlib inline\n",
    "plt.hist(number,20)\n",
    "plt.show()"
   ]
  },
  {
   "cell_type": "code",
   "execution_count": null,
   "id": "1aa36715",
   "metadata": {},
   "outputs": [],
   "source": []
  }
 ],
 "metadata": {
  "kernelspec": {
   "display_name": "Python 3",
   "language": "python",
   "name": "python3"
  },
  "language_info": {
   "codemirror_mode": {
    "name": "ipython",
    "version": 3
   },
   "file_extension": ".py",
   "mimetype": "text/x-python",
   "name": "python",
   "nbconvert_exporter": "python",
   "pygments_lexer": "ipython3",
   "version": "3.8.8"
  }
 },
 "nbformat": 4,
 "nbformat_minor": 5
}
